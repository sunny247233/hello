{
  "nbformat": 4,
  "nbformat_minor": 0,
  "metadata": {
    "colab": {
      "provenance": [],
      "authorship_tag": "ABX9TyMJNCvvA2CPKQQKQPtILL3f",
      "include_colab_link": true
    },
    "kernelspec": {
      "name": "python3",
      "display_name": "Python 3"
    },
    "language_info": {
      "name": "python"
    }
  },
  "cells": [
    {
      "cell_type": "markdown",
      "metadata": {
        "id": "view-in-github",
        "colab_type": "text"
      },
      "source": [
        "<a href=\"https://colab.research.google.com/github/sunny247233/hello/blob/main/dict.ipynb\" target=\"_parent\"><img src=\"https://colab.research.google.com/assets/colab-badge.svg\" alt=\"Open In Colab\"/></a>"
      ]
    },
    {
      "cell_type": "code",
      "execution_count": null,
      "metadata": {
        "id": "gMz3dkS0ZLXx"
      },
      "outputs": [],
      "source": [
        "a = ['a','b','c','d']\n",
        "b = [1,2,3,4]"
      ]
    },
    {
      "cell_type": "code",
      "source": [
        "d = dict(zip(a,b))\n"
      ],
      "metadata": {
        "id": "7__c2b65bFml"
      },
      "execution_count": null,
      "outputs": []
    },
    {
      "cell_type": "code",
      "source": [
        "print(d)"
      ],
      "metadata": {
        "colab": {
          "base_uri": "https://localhost:8080/"
        },
        "id": "CpXbloIUbZs3",
        "outputId": "204c9597-c928-4075-a6fe-c34fee886eb4"
      },
      "execution_count": null,
      "outputs": [
        {
          "output_type": "stream",
          "name": "stdout",
          "text": [
            "{'a': 1, 'b': 2, 'c': 3, 'd': 4}\n"
          ]
        }
      ]
    },
    {
      "cell_type": "code",
      "source": [
        "k = ['tomato','cucomber','zucchini','cauliflower','potato','cabbage','carrot','zucchini','zucchini','cucomber','cauliflower','cauliflower']"
      ],
      "metadata": {
        "id": "f2r7b9rzbtc-"
      },
      "execution_count": null,
      "outputs": []
    },
    {
      "cell_type": "code",
      "source": [
        "d1 = {}.fromkeys(k,0)"
      ],
      "metadata": {
        "id": "es1Tn9GXbhsB"
      },
      "execution_count": null,
      "outputs": []
    },
    {
      "cell_type": "code",
      "source": [
        "print(d1)"
      ],
      "metadata": {
        "colab": {
          "base_uri": "https://localhost:8080/"
        },
        "id": "V9xzlz0GciPW",
        "outputId": "315d8857-51d8-40ea-adc7-4ca1ef4c47f0"
      },
      "execution_count": null,
      "outputs": [
        {
          "output_type": "stream",
          "name": "stdout",
          "text": [
            "{'tomato': 0, 'cucomber': 0, 'zucchini': 0, 'cauliflower': 0, 'potato': 0, 'cabbage': 0, 'carrot': 0}\n"
          ]
        }
      ]
    },
    {
      "cell_type": "code",
      "source": [
        "for i in d1:\n",
        "  d1[i] = k.count(i)"
      ],
      "metadata": {
        "id": "AtmhJCiJzqPY"
      },
      "execution_count": null,
      "outputs": []
    },
    {
      "cell_type": "code",
      "source": [
        "d1"
      ],
      "metadata": {
        "colab": {
          "base_uri": "https://localhost:8080/"
        },
        "id": "UQksK2YU0KZO",
        "outputId": "e693be89-7bbb-4a54-8bf6-ae2665b9f59a"
      },
      "execution_count": null,
      "outputs": [
        {
          "output_type": "execute_result",
          "data": {
            "text/plain": [
              "{'tomato': 1,\n",
              " 'cucomber': 2,\n",
              " 'zucchini': 3,\n",
              " 'cauliflower': 3,\n",
              " 'potato': 1,\n",
              " 'cabbage': 1,\n",
              " 'carrot': 1}"
            ]
          },
          "metadata": {},
          "execution_count": 8
        }
      ]
    },
    {
      "cell_type": "code",
      "source": [
        "ec = [['tomato',1.25,20],\n",
        "    ['cucomber',2.3,40],\n",
        "    ['zucchini',1.2,25],\n",
        "    ['potato',0.8,60],\n",
        "    ['carrot',1.1,50],\n",
        "    ['cabbage',1.5,30]\n",
        "]"
      ],
      "metadata": {
        "id": "NA98xjbk1MFl"
      },
      "execution_count": null,
      "outputs": []
    },
    {
      "cell_type": "code",
      "source": [
        "d = {}"
      ],
      "metadata": {
        "id": "Odc-4dA37Q4N"
      },
      "execution_count": null,
      "outputs": []
    },
    {
      "cell_type": "code",
      "source": [
        "for i in ec:\n",
        "  d[i[0]] = i[2]"
      ],
      "metadata": {
        "id": "TpwUmVlh6r58"
      },
      "execution_count": null,
      "outputs": []
    },
    {
      "cell_type": "code",
      "source": [
        "print(d['potato'])"
      ],
      "metadata": {
        "colab": {
          "base_uri": "https://localhost:8080/"
        },
        "id": "Gc_Iys9N7FGU",
        "outputId": "c4a96378-770d-4fba-a051-c8218103cccc"
      },
      "execution_count": null,
      "outputs": [
        {
          "output_type": "stream",
          "name": "stdout",
          "text": [
            "60\n"
          ]
        }
      ]
    },
    {
      "cell_type": "markdown",
      "source": [
        "字典生成式"
      ],
      "metadata": {
        "id": "TNFMGgzP8Byc"
      }
    },
    {
      "cell_type": "code",
      "source": [
        "name = ['mike','mika','anna','nike','lily','jack','anna','alice','rose','lily','mike','anna','mike','lily','lily','mike','anna','anna','jack','anna','anna']"
      ],
      "metadata": {
        "id": "JgL3rkpl8Es7"
      },
      "execution_count": null,
      "outputs": []
    },
    {
      "cell_type": "code",
      "source": [
        "dict = {i:name.count(i) for i in name if name.count(i) > 3}"
      ],
      "metadata": {
        "id": "jfglc3J99X0Y"
      },
      "execution_count": null,
      "outputs": []
    },
    {
      "cell_type": "code",
      "source": [
        "dict"
      ],
      "metadata": {
        "colab": {
          "base_uri": "https://localhost:8080/"
        },
        "id": "sPFZM2XE9rDo",
        "outputId": "7f9c898b-cbc8-4dea-d2fe-1d9a042f8920"
      },
      "execution_count": null,
      "outputs": [
        {
          "output_type": "execute_result",
          "data": {
            "text/plain": [
              "{'mike': 4, 'anna': 7, 'lily': 4}"
            ]
          },
          "metadata": {},
          "execution_count": 25
        }
      ]
    },
    {
      "cell_type": "code",
      "source": [
        "m = max(dict.values())"
      ],
      "metadata": {
        "id": "Zp7-sDj2E6c2"
      },
      "execution_count": 29,
      "outputs": []
    },
    {
      "cell_type": "code",
      "source": [
        "m"
      ],
      "metadata": {
        "colab": {
          "base_uri": "https://localhost:8080/"
        },
        "id": "82Xc-Nu5FT9I",
        "outputId": "09860f98-75a7-428f-f6ff-b25d25a5d232"
      },
      "execution_count": 30,
      "outputs": [
        {
          "output_type": "execute_result",
          "data": {
            "text/plain": [
              "7"
            ]
          },
          "metadata": {},
          "execution_count": 30
        }
      ]
    },
    {
      "cell_type": "markdown",
      "source": [
        "解包"
      ],
      "metadata": {
        "id": "KoR_8YEvHP_7"
      }
    },
    {
      "cell_type": "code",
      "source": [
        "dict1 = {k:v for k,v in dict.items() if v == m}"
      ],
      "metadata": {
        "id": "-_bAfbJ3FZqx"
      },
      "execution_count": 31,
      "outputs": []
    },
    {
      "cell_type": "code",
      "source": [
        "dict1"
      ],
      "metadata": {
        "colab": {
          "base_uri": "https://localhost:8080/"
        },
        "id": "P1_AE1owGM3h",
        "outputId": "35a24783-be96-46e5-dcc8-a05337fdee3e"
      },
      "execution_count": 32,
      "outputs": [
        {
          "output_type": "execute_result",
          "data": {
            "text/plain": [
              "{'anna': 7}"
            ]
          },
          "metadata": {},
          "execution_count": 32
        }
      ]
    },
    {
      "cell_type": "code",
      "source": [
        "a,b,c,*d = [1,2,3,4,5]"
      ],
      "metadata": {
        "id": "esjXiFSK7h3g"
      },
      "execution_count": 3,
      "outputs": []
    },
    {
      "cell_type": "code",
      "source": [
        "import numpy as np"
      ],
      "metadata": {
        "id": "RIM8drQ69J4f"
      },
      "execution_count": 9,
      "outputs": []
    },
    {
      "cell_type": "code",
      "source": [
        "score = [7.5, 8.4, 6.7, 9.1, 7.6, 8.4, 6.9, 8.3, 7.3]"
      ],
      "metadata": {
        "id": "meH6Mjvd7_PG"
      },
      "execution_count": 15,
      "outputs": []
    },
    {
      "cell_type": "code",
      "source": [
        "lowest, *sign, highest = sorted(score)"
      ],
      "metadata": {
        "id": "8mq3DtTK8V8Z"
      },
      "execution_count": 16,
      "outputs": []
    },
    {
      "cell_type": "code",
      "source": [
        "lowest, sign, highest"
      ],
      "metadata": {
        "colab": {
          "base_uri": "https://localhost:8080/"
        },
        "id": "l0ih5fJw9iW_",
        "outputId": "495f13f2-7931-48eb-a8b2-d35ca7351dee"
      },
      "execution_count": 17,
      "outputs": [
        {
          "output_type": "execute_result",
          "data": {
            "text/plain": [
              "(6.7, [6.9, 7.3, 7.5, 7.6, 8.3, 8.4, 8.4], 9.1)"
            ]
          },
          "metadata": {},
          "execution_count": 17
        }
      ]
    }
  ]
}