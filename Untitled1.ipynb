{
 "cells": [
  {
   "cell_type": "code",
   "execution_count": 3,
   "id": "ef7d3367-6f09-4184-a3d0-8c670d363cf4",
   "metadata": {},
   "outputs": [],
   "source": [
    "from time import time \n",
    "from datetime import datetime"
   ]
  },
  {
   "cell_type": "code",
   "execution_count": 2,
   "id": "c708b5a8-7823-4167-9c1b-181b85423c9d",
   "metadata": {},
   "outputs": [
    {
     "data": {
      "text/plain": [
       "1721117813.2151117"
      ]
     },
     "execution_count": 2,
     "metadata": {},
     "output_type": "execute_result"
    }
   ],
   "source": [
    "time()"
   ]
  },
  {
   "cell_type": "code",
   "execution_count": 5,
   "id": "3590233e-b80a-4c5e-b8da-904660484dad",
   "metadata": {},
   "outputs": [
    {
     "data": {
      "text/plain": [
       "datetime.datetime(2024, 7, 16, 1, 20, 38, 795653)"
      ]
     },
     "execution_count": 5,
     "metadata": {},
     "output_type": "execute_result"
    }
   ],
   "source": [
    "datetime.now()"
   ]
  },
  {
   "cell_type": "code",
   "execution_count": 6,
   "id": "126b705a-52e0-4b79-98d7-afc8aa8e3e16",
   "metadata": {},
   "outputs": [
    {
     "data": {
      "text/plain": [
       "2024"
      ]
     },
     "execution_count": 6,
     "metadata": {},
     "output_type": "execute_result"
    }
   ],
   "source": [
    "datetime.now().year"
   ]
  },
  {
   "cell_type": "code",
   "execution_count": 13,
   "id": "5bf66270-9661-4416-bbd8-b2010f29b3d7",
   "metadata": {},
   "outputs": [
    {
     "data": {
      "text/plain": [
       "'2024:38:07/16/24-09:38:08'"
      ]
     },
     "execution_count": 13,
     "metadata": {},
     "output_type": "execute_result"
    }
   ],
   "source": [
    "datetime.now().strftime('%Y:%M:%D-%H:%M:%S')"
   ]
  },
  {
   "cell_type": "code",
   "execution_count": null,
   "id": "5b4e4be5-2346-48ab-ac60-726008983686",
   "metadata": {},
   "outputs": [],
   "source": []
  },
  {
   "cell_type": "code",
   "execution_count": null,
   "id": "3fe3eb8e-3e21-4a98-b471-8aa656627c5a",
   "metadata": {},
   "outputs": [],
   "source": []
  }
 ],
 "metadata": {
  "kernelspec": {
   "display_name": "Python 3 (ipykernel)",
   "language": "python",
   "name": "python3"
  },
  "language_info": {
   "codemirror_mode": {
    "name": "ipython",
    "version": 3
   },
   "file_extension": ".py",
   "mimetype": "text/x-python",
   "name": "python",
   "nbconvert_exporter": "python",
   "pygments_lexer": "ipython3",
   "version": "3.12.3"
  }
 },
 "nbformat": 4,
 "nbformat_minor": 5
}
