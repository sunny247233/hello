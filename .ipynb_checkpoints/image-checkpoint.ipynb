{
 "cells": [
  {
   "cell_type": "code",
   "execution_count": 5,
   "id": "c147b233-8f84-4aa5-a630-a243fbefe68c",
   "metadata": {},
   "outputs": [],
   "source": [
    "from PIL import Image\n",
    "import numpy as np"
   ]
  },
  {
   "cell_type": "code",
   "execution_count": 6,
   "id": "a8ef94f2-a15d-4732-8041-ccec3e043f6d",
   "metadata": {},
   "outputs": [],
   "source": [
    "im = Image.open('dog.jpg')"
   ]
  },
  {
   "cell_type": "code",
   "execution_count": 7,
   "id": "a0ed52f2-fa3c-41e3-b028-dad8520274d4",
   "metadata": {},
   "outputs": [],
   "source": [
    "im.show()"
   ]
  },
  {
   "cell_type": "code",
   "execution_count": 8,
   "id": "b42bd77a-330a-4735-96ea-381f54f6b453",
   "metadata": {},
   "outputs": [],
   "source": [
    "im = np.array(im)"
   ]
  },
  {
   "cell_type": "code",
   "execution_count": 12,
   "id": "8bed036f-3ca1-4a12-b7f5-a333bad4cbfe",
   "metadata": {},
   "outputs": [
    {
     "data": {
      "text/plain": [
       "(260, 260, 3)"
      ]
     },
     "execution_count": 12,
     "metadata": {},
     "output_type": "execute_result"
    }
   ],
   "source": [
    "im.shape"
   ]
  },
  {
   "cell_type": "code",
   "execution_count": 13,
   "id": "0db9c0f7-3c03-472e-aa26-10414f9ea9bf",
   "metadata": {},
   "outputs": [
    {
     "data": {
      "text/plain": [
       "array([248, 195,   1], dtype=uint8)"
      ]
     },
     "execution_count": 13,
     "metadata": {},
     "output_type": "execute_result"
    }
   ],
   "source": [
    "im[100,100]"
   ]
  },
  {
   "cell_type": "code",
   "execution_count": 14,
   "id": "85627eef-034d-4a43-a610-58b394a2c379",
   "metadata": {},
   "outputs": [],
   "source": [
    "im_r = im[:,:,0]"
   ]
  },
  {
   "cell_type": "code",
   "execution_count": 15,
   "id": "b70c4180-347b-4fec-ac96-49492f38a10c",
   "metadata": {},
   "outputs": [],
   "source": [
    "Image.fromarray(im_r).show()"
   ]
  },
  {
   "cell_type": "code",
   "execution_count": 17,
   "id": "cca65d11-0275-4e54-b8c7-b3ec889ebf09",
   "metadata": {},
   "outputs": [],
   "source": [
    "Image.fromarray(im[:,:,1]).show()"
   ]
  },
  {
   "cell_type": "code",
   "execution_count": 18,
   "id": "36e99d5e-3d19-4fdc-a3ab-1c7485850263",
   "metadata": {},
   "outputs": [],
   "source": [
    "im2 = np.array(Image.open('cat.jpg'))"
   ]
  },
  {
   "cell_type": "code",
   "execution_count": 22,
   "id": "a08fc460-c406-4280-b2d3-453162fcbb95",
   "metadata": {},
   "outputs": [],
   "source": [
    "im2 = im2[260,260]"
   ]
  },
  {
   "cell_type": "code",
   "execution_count": 24,
   "id": "80f40dec-8b40-4bae-9875-8d12169e897e",
   "metadata": {},
   "outputs": [],
   "source": [
    "im_blend = im + im2"
   ]
  },
  {
   "cell_type": "code",
   "execution_count": 26,
   "id": "d7d3ef92-6e5c-4e53-bb16-6d48c995b8d4",
   "metadata": {},
   "outputs": [],
   "source": [
    "Image.fromarray(im_blend).show()"
   ]
  },
  {
   "cell_type": "code",
   "execution_count": null,
   "id": "0cad4fcc-f69b-44e4-afaa-9d6e7bd0faa5",
   "metadata": {},
   "outputs": [],
   "source": []
  }
 ],
 "metadata": {
  "kernelspec": {
   "display_name": "Python 3 (ipykernel)",
   "language": "python",
   "name": "python3"
  },
  "language_info": {
   "codemirror_mode": {
    "name": "ipython",
    "version": 3
   },
   "file_extension": ".py",
   "mimetype": "text/x-python",
   "name": "python",
   "nbconvert_exporter": "python",
   "pygments_lexer": "ipython3",
   "version": "3.12.3"
  }
 },
 "nbformat": 4,
 "nbformat_minor": 5
}
